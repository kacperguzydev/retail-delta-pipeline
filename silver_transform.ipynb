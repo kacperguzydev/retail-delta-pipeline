{
 "cells": [
  {
   "cell_type": "code",
   "execution_count": 0,
   "metadata": {
    "application/vnd.databricks.v1+cell": {
     "cellMetadata": {
      "byteLimit": 2048000,
      "rowLimit": 10000
     },
     "inputWidgets": {},
     "nuid": "4b5ae421-2ab4-46ac-a4c1-adf24bee335b",
     "showTitle": false,
     "tableResultSettingsMap": {},
     "title": ""
    }
   },
   "outputs": [
    {
     "output_type": "stream",
     "name": "stdout",
     "output_type": "stream",
     "text": [
      "Silver table ready. Row count: 169211\n"
     ]
    }
   ],
   "source": [
    "from pyspark.sql.functions import col, regexp_replace, expr, to_timestamp, lit, sum as sum_\n",
    "from pyspark.sql.window import Window\n",
    "\n",
    "# Load \n",
    "df = spark.read.format(\"delta\").load(\"/mnt/bronze/retail_bronze\")\n",
    "\n",
    "# Clean \n",
    "df = (\n",
    "    df.withColumn(\"Order_Demand\", regexp_replace(\"Order_Demand\", r\"[()]\", \"\"))\n",
    "      .withColumn(\"Order_Demand\", col(\"Order_Demand\").cast(\"int\"))\n",
    ")\n",
    "\n",
    "# Drop rows\n",
    "df = df.dropna(subset=[\"Order_Demand\", \"Open\", \"Product_Category\", \"Product_ID\"])\n",
    "\n",
    "df = (\n",
    "    df.withColumn(\"stock_remaining\", col(\"Open\") - col(\"Order_Demand\"))\n",
    "      .withColumn(\"backorder_flag\", expr(\"stock_remaining < 0\"))\n",
    "      .withColumn(\"event_time\", to_timestamp(\"Date\", \"yyyy-MM-dd\"))\n",
    ")\n",
    "\n",
    "# demand\n",
    "rolling = Window.partitionBy(\"Product_ID\").orderBy(\"event_time\").rowsBetween(-6, 0)\n",
    "df = df.withColumn(\"rolling_7d_demand\", sum_(\"Order_Demand\").over(rolling))\n",
    "\n",
    "df = (\n",
    "    df.withColumn(\n",
    "        \"priority_level\",\n",
    "        col(\"priority_level\").cast(\"string\") if \"priority_level\" in df.columns else lit(None).cast(\"string\")\n",
    "    )\n",
    ")\n",
    "\n",
    "# Save \n",
    "df.write.format(\"delta\").mode(\"overwrite\").option(\"mergeSchema\", \"true\").save(\"/mnt/silver/retail_silver\")\n",
    "\n",
    "print(\"Silver table ready. Row count:\", df.count())"
   ]
  }
 ],
 "metadata": {
  "application/vnd.databricks.v1+notebook": {
   "computePreferences": null,
   "dashboards": [],
   "environmentMetadata": {
    "base_environment": "",
    "environment_version": "1"
   },
   "inputWidgetPreferences": null,
   "language": "python",
   "notebookMetadata": {
    "pythonIndentUnit": 4
   },
   "notebookName": "silver_transform",
   "widgets": {}
  }
 },
 "nbformat": 4,
 "nbformat_minor": 0
}