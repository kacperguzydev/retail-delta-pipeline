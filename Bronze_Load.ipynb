{
 "cells": [
  {
   "cell_type": "code",
   "execution_count": 0,
   "metadata": {
    "application/vnd.databricks.v1+cell": {
     "cellMetadata": {
      "byteLimit": 2048000,
      "rowLimit": 10000
     },
     "inputWidgets": {},
     "nuid": "c8efdf4f-0ce2-4773-a224-199ff669d5fb",
     "showTitle": false,
     "tableResultSettingsMap": {},
     "title": ""
    }
   },
   "outputs": [
    {
     "output_type": "stream",
     "name": "stdout",
     "output_type": "stream",
     "text": [
      "Bronze layer ready.\nTotal rows: 169211\n"
     ]
    }
   ],
   "source": [
    "from pyspark.sql.functions import to_date, col\n",
    "\n",
    "# Clean \n",
    "dbutils.fs.rm(\"/mnt/bronze/retail_bronze\", recurse=True)\n",
    "\n",
    "# Load CSV \n",
    "df_raw = (\n",
    "    spark.read\n",
    "    .option(\"header\", True)\n",
    "    .option(\"inferSchema\", True)\n",
    "    .csv(\"/FileStore/tables/Retail_Dataset2.csv\")\n",
    ")\n",
    "\n",
    "df_bronze = df_raw.withColumn(\"event_date\", to_date(col(\"Date\"), \"yyyy-MM-dd\"))\n",
    "\n",
    "# Write to Delta\n",
    "(\n",
    "    df_bronze.write\n",
    "    .format(\"delta\")\n",
    "    .mode(\"overwrite\")\n",
    "    .partitionBy(\"event_date\")\n",
    "    .save(\"/mnt/bronze/retail_bronze\")\n",
    ")\n",
    "\n",
    "# Check number\n",
    "print(\"Bronze layer ready.\")\n",
    "print(\"Total rows:\", spark.read.format(\"delta\").load(\"/mnt/bronze/retail_bronze\").count())"
   ]
  }
 ],
 "metadata": {
  "application/vnd.databricks.v1+notebook": {
   "computePreferences": null,
   "dashboards": [],
   "environmentMetadata": {
    "base_environment": "",
    "environment_version": "1"
   },
   "inputWidgetPreferences": null,
   "language": "python",
   "notebookMetadata": {
    "pythonIndentUnit": 4
   },
   "notebookName": "Bronze_Load",
   "widgets": {}
  }
 },
 "nbformat": 4,
 "nbformat_minor": 0
}