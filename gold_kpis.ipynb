{
 "cells": [
  {
   "cell_type": "code",
   "execution_count": 0,
   "metadata": {
    "application/vnd.databricks.v1+cell": {
     "cellMetadata": {
      "byteLimit": 2048000,
      "rowLimit": 10000
     },
     "inputWidgets": {},
     "nuid": "a10d535c-8225-43ec-98b4-cb2aca19cff2",
     "showTitle": false,
     "tableResultSettingsMap": {},
     "title": ""
    }
   },
   "outputs": [
    {
     "output_type": "stream",
     "name": "stdout",
     "output_type": "stream",
     "text": [
      "Gold table created with KPIs.\ntotal records: 169211\n"
     ]
    }
   ],
   "source": [
    "from pyspark.sql.functions import col, avg, sum as sum_, count, expr\n",
    "# Load data \n",
    "df = spark.read.format(\"delta\").load(\"/mnt/silver/retail_silver\")\n",
    "\n",
    "df = (\n",
    "    df.withColumn(\"SchoolHolidayInt\", col(\"SchoolHoliday\").cast(\"int\"))\n",
    "      .withColumn(\"StateHolidayInt\", expr(\"CASE WHEN StateHoliday = '1' THEN 1 ELSE 0 END\"))\n",
    ")\n",
    "\n",
    "# Group \n",
    "df_gold = (\n",
    "    df.groupBy(\"Product_ID\", \"Product_Code\", \"Warehouse\", \"Product_Category\")\n",
    "      .agg(\n",
    "          count(\"*\").alias(\"total_days\"),\n",
    "          sum_(\"Order_Demand\").alias(\"total_demand\"),\n",
    "          avg(\"Order_Demand\").alias(\"avg_daily_demand\"),\n",
    "          sum_(\"Open\").alias(\"open_days_raw\"),\n",
    "          avg(\"Petrol_price\").alias(\"avg_petrol_price\"),\n",
    "          avg(\"Promo\").alias(\"avg_promo\"),\n",
    "          expr(\"IF(AVG(SchoolHolidayInt) > 0, 'Yes', 'No')\").alias(\"had_school_holiday\"),\n",
    "          expr(\"IF(AVG(StateHolidayInt) > 0, 'Yes', 'No')\").alias(\"had_state_holiday\")\n",
    "      )\n",
    "      .withColumn(\"is_open\", expr(\"IF(open_days_raw > 0, 'Yes', 'No')\"))\n",
    "      .withColumn(\"promo_demand_ratio\", col(\"avg_daily_demand\") / (col(\"avg_promo\") + expr(\"1e-6\")))\n",
    "      .withColumn(\"promo_demand_level\", expr(\"\"\"\n",
    "          CASE\n",
    "              WHEN promo_demand_ratio >= 1000 THEN 'High'\n",
    "              WHEN promo_demand_ratio >= 100 THEN 'Medium'\n",
    "              ELSE 'Low'\n",
    "          END\n",
    "      \"\"\"))\n",
    "      .select(\n",
    "          \"Product_ID\", \"Product_Code\", \"Warehouse\", \"Product_Category\",\n",
    "          \"total_days\", \"total_demand\", \"avg_daily_demand\",\n",
    "          \"is_open\", \"avg_petrol_price\",\n",
    "          \"had_school_holiday\", \"had_state_holiday\",\n",
    "          \"promo_demand_level\"\n",
    "      )\n",
    ")\n",
    "\n",
    "# Save results\n",
    "df_gold.write.format(\"delta\").mode(\"overwrite\").option(\"mergeSchema\", \"true\").save(\"/mnt/gold/retail_kpis\")\n",
    "\n",
    "# SQL table\n",
    "spark.sql(\"DROP TABLE IF EXISTS retail_kpis\")\n",
    "spark.sql(\"\"\"\n",
    "CREATE TABLE retail_kpis\n",
    "USING DELTA\n",
    "LOCATION '/mnt/gold/retail_kpis'\n",
    "\"\"\")\n",
    "\n",
    "print(\"Gold table created with KPIs.\")\n",
    "print(\"total records:\", df_gold.count())"
   ]
  }
 ],
 "metadata": {
  "application/vnd.databricks.v1+notebook": {
   "computePreferences": null,
   "dashboards": [],
   "environmentMetadata": {
    "base_environment": "",
    "environment_version": "1"
   },
   "inputWidgetPreferences": null,
   "language": "python",
   "notebookMetadata": {
    "pythonIndentUnit": 4
   },
   "notebookName": "gold_kpis",
   "widgets": {}
  }
 },
 "nbformat": 4,
 "nbformat_minor": 0
}